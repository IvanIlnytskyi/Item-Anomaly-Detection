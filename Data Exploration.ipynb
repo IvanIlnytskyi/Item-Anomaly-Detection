{
 "cells": [
  {
   "cell_type": "code",
   "execution_count": 1,
   "metadata": {},
   "outputs": [],
   "source": [
    "import numpy as np\n",
    "import pandas as pd"
   ]
  },
  {
   "cell_type": "code",
   "execution_count": 2,
   "metadata": {
    "scrolled": true
   },
   "outputs": [],
   "source": [
    "df = pd.read_excel('../data/products.xlsx')"
   ]
  },
  {
   "cell_type": "code",
   "execution_count": 3,
   "metadata": {},
   "outputs": [
    {
     "name": "stdout",
     "output_type": "stream",
     "text": [
      "brand           2608\n",
      "category       11121\n",
      "condition      11122\n",
      "description    11123\n",
      "file_urls      11122\n",
      "files              1\n",
      "id             11122\n",
      "image          11122\n",
      "name           11122\n",
      "price          11122\n",
      "shipping       11122\n",
      "url            11122\n",
      "dtype: int64\n"
     ]
    },
    {
     "data": {
      "text/html": [
       "<div>\n",
       "<style scoped>\n",
       "    .dataframe tbody tr th:only-of-type {\n",
       "        vertical-align: middle;\n",
       "    }\n",
       "\n",
       "    .dataframe tbody tr th {\n",
       "        vertical-align: top;\n",
       "    }\n",
       "\n",
       "    .dataframe thead th {\n",
       "        text-align: right;\n",
       "    }\n",
       "</style>\n",
       "<table border=\"1\" class=\"dataframe\">\n",
       "  <thead>\n",
       "    <tr style=\"text-align: right;\">\n",
       "      <th></th>\n",
       "      <th>brand</th>\n",
       "      <th>category</th>\n",
       "      <th>condition</th>\n",
       "      <th>description</th>\n",
       "      <th>file_urls</th>\n",
       "      <th>files</th>\n",
       "      <th>id</th>\n",
       "      <th>image</th>\n",
       "      <th>name</th>\n",
       "      <th>price</th>\n",
       "      <th>shipping</th>\n",
       "      <th>url</th>\n",
       "    </tr>\n",
       "  </thead>\n",
       "  <tbody>\n",
       "    <tr>\n",
       "      <td>0</td>\n",
       "      <td>NaN</td>\n",
       "      <td>Studio Recording Equipment</td>\n",
       "      <td>New</td>\n",
       "      <td>Audio interface new! Works with fire wire</td>\n",
       "      <td>https://static-mercariapp-com.akamaized.net/ph...</td>\n",
       "      <td>NaN</td>\n",
       "      <td>m46490058971</td>\n",
       "      <td>https://static-mercariapp-com.akamaized.net/ph...</td>\n",
       "      <td>Behringer AUDIO interface</td>\n",
       "      <td>$ 35.00</td>\n",
       "      <td>$6.00</td>\n",
       "      <td>https://item.mercari.com/gl/m46490058971/</td>\n",
       "    </tr>\n",
       "    <tr>\n",
       "      <td>1</td>\n",
       "      <td>NaN</td>\n",
       "      <td>Studio Recording Equipment</td>\n",
       "      <td>New</td>\n",
       "      <td>Focusrite Scarlett 2i4 USB Audio Interface (2n...</td>\n",
       "      <td>https://static-mercariapp-com.akamaized.net/ph...</td>\n",
       "      <td>NaN</td>\n",
       "      <td>m41956262411</td>\n",
       "      <td>https://static-mercariapp-com.akamaized.net/ph...</td>\n",
       "      <td>Focusrite Scarlett 2i4 USB Audio Interfa</td>\n",
       "      <td>$ 180.00</td>\n",
       "      <td>$6.00</td>\n",
       "      <td>https://item.mercari.com/gl/m41956262411/</td>\n",
       "    </tr>\n",
       "    <tr>\n",
       "      <td>2</td>\n",
       "      <td>Tascam</td>\n",
       "      <td>Studio Recording Equipment</td>\n",
       "      <td>Good</td>\n",
       "      <td>Original Price: $172.00 out of stock. Works pe...</td>\n",
       "      <td>https://static-mercariapp-com.akamaized.net/ph...</td>\n",
       "      <td>NaN</td>\n",
       "      <td>m48699763030</td>\n",
       "      <td>https://static-mercariapp-com.akamaized.net/ph...</td>\n",
       "      <td>Tascam US-144MKII  Recording Interface</td>\n",
       "      <td>$ 34.00</td>\n",
       "      <td>$6.00</td>\n",
       "      <td>https://item.mercari.com/gl/m48699763030/</td>\n",
       "    </tr>\n",
       "    <tr>\n",
       "      <td>3</td>\n",
       "      <td>NaN</td>\n",
       "      <td>Studio Recording Equipment</td>\n",
       "      <td>Like New</td>\n",
       "      <td>Behringer Headphones HPS3000 high performance</td>\n",
       "      <td>https://static-mercariapp-com.akamaized.net/ph...</td>\n",
       "      <td>NaN</td>\n",
       "      <td>m41645959650</td>\n",
       "      <td>https://static-mercariapp-com.akamaized.net/ph...</td>\n",
       "      <td>Behringer Headphones HPS3000</td>\n",
       "      <td>$ 15.00</td>\n",
       "      <td>$6.00</td>\n",
       "      <td>https://item.mercari.com/gl/m41645959650/</td>\n",
       "    </tr>\n",
       "    <tr>\n",
       "      <td>4</td>\n",
       "      <td>Behringer</td>\n",
       "      <td>Studio Recording Equipment</td>\n",
       "      <td>Good</td>\n",
       "      <td>Behringer ULM100USB Ultralink USB Wireless Mic...</td>\n",
       "      <td>https://static-mercariapp-com.akamaized.net/ph...</td>\n",
       "      <td>NaN</td>\n",
       "      <td>m42480670580</td>\n",
       "      <td>https://static-mercariapp-com.akamaized.net/ph...</td>\n",
       "      <td>Behringer ULM100USB USB Microphone</td>\n",
       "      <td>$ 89.00</td>\n",
       "      <td>FREE</td>\n",
       "      <td>https://item.mercari.com/gl/m42480670580/</td>\n",
       "    </tr>\n",
       "  </tbody>\n",
       "</table>\n",
       "</div>"
      ],
      "text/plain": [
       "       brand                    category condition  \\\n",
       "0        NaN  Studio Recording Equipment       New   \n",
       "1        NaN  Studio Recording Equipment       New   \n",
       "2     Tascam  Studio Recording Equipment      Good   \n",
       "3        NaN  Studio Recording Equipment  Like New   \n",
       "4  Behringer  Studio Recording Equipment      Good   \n",
       "\n",
       "                                         description  \\\n",
       "0          Audio interface new! Works with fire wire   \n",
       "1  Focusrite Scarlett 2i4 USB Audio Interface (2n...   \n",
       "2  Original Price: $172.00 out of stock. Works pe...   \n",
       "3      Behringer Headphones HPS3000 high performance   \n",
       "4  Behringer ULM100USB Ultralink USB Wireless Mic...   \n",
       "\n",
       "                                           file_urls files            id  \\\n",
       "0  https://static-mercariapp-com.akamaized.net/ph...   NaN  m46490058971   \n",
       "1  https://static-mercariapp-com.akamaized.net/ph...   NaN  m41956262411   \n",
       "2  https://static-mercariapp-com.akamaized.net/ph...   NaN  m48699763030   \n",
       "3  https://static-mercariapp-com.akamaized.net/ph...   NaN  m41645959650   \n",
       "4  https://static-mercariapp-com.akamaized.net/ph...   NaN  m42480670580   \n",
       "\n",
       "                                               image  \\\n",
       "0  https://static-mercariapp-com.akamaized.net/ph...   \n",
       "1  https://static-mercariapp-com.akamaized.net/ph...   \n",
       "2  https://static-mercariapp-com.akamaized.net/ph...   \n",
       "3  https://static-mercariapp-com.akamaized.net/ph...   \n",
       "4  https://static-mercariapp-com.akamaized.net/ph...   \n",
       "\n",
       "                                       name     price shipping  \\\n",
       "0                 Behringer AUDIO interface   $ 35.00    $6.00   \n",
       "1  Focusrite Scarlett 2i4 USB Audio Interfa  $ 180.00    $6.00   \n",
       "2    Tascam US-144MKII  Recording Interface   $ 34.00    $6.00   \n",
       "3              Behringer Headphones HPS3000   $ 15.00    $6.00   \n",
       "4        Behringer ULM100USB USB Microphone   $ 89.00     FREE   \n",
       "\n",
       "                                         url  \n",
       "0  https://item.mercari.com/gl/m46490058971/  \n",
       "1  https://item.mercari.com/gl/m41956262411/  \n",
       "2  https://item.mercari.com/gl/m48699763030/  \n",
       "3  https://item.mercari.com/gl/m41645959650/  \n",
       "4  https://item.mercari.com/gl/m42480670580/  "
      ]
     },
     "execution_count": 3,
     "metadata": {},
     "output_type": "execute_result"
    }
   ],
   "source": [
    "print(df.count())\n",
    "df.head(5)"
   ]
  },
  {
   "cell_type": "code",
   "execution_count": 4,
   "metadata": {},
   "outputs": [
    {
     "data": {
      "text/plain": [
       "brand           8520\n",
       "category           7\n",
       "condition          6\n",
       "description        5\n",
       "file_urls          6\n",
       "files          11127\n",
       "id                 6\n",
       "image              6\n",
       "name               6\n",
       "price              6\n",
       "shipping           6\n",
       "url                6\n",
       "dtype: int64"
      ]
     },
     "execution_count": 4,
     "metadata": {},
     "output_type": "execute_result"
    }
   ],
   "source": [
    "df.isnull().sum()"
   ]
  },
  {
   "cell_type": "code",
   "execution_count": 5,
   "metadata": {},
   "outputs": [
    {
     "data": {
      "text/html": [
       "<div>\n",
       "<style scoped>\n",
       "    .dataframe tbody tr th:only-of-type {\n",
       "        vertical-align: middle;\n",
       "    }\n",
       "\n",
       "    .dataframe tbody tr th {\n",
       "        vertical-align: top;\n",
       "    }\n",
       "\n",
       "    .dataframe thead th {\n",
       "        text-align: right;\n",
       "    }\n",
       "</style>\n",
       "<table border=\"1\" class=\"dataframe\">\n",
       "  <thead>\n",
       "    <tr style=\"text-align: right;\">\n",
       "      <th></th>\n",
       "      <th>category</th>\n",
       "      <th>condition</th>\n",
       "      <th>description</th>\n",
       "      <th>id</th>\n",
       "      <th>name</th>\n",
       "      <th>price</th>\n",
       "    </tr>\n",
       "  </thead>\n",
       "  <tbody>\n",
       "    <tr>\n",
       "      <td>0</td>\n",
       "      <td>Studio Recording Equipment</td>\n",
       "      <td>New</td>\n",
       "      <td>Audio interface new! Works with fire wire</td>\n",
       "      <td>m46490058971</td>\n",
       "      <td>Behringer AUDIO interface</td>\n",
       "      <td>$ 35.00</td>\n",
       "    </tr>\n",
       "  </tbody>\n",
       "</table>\n",
       "</div>"
      ],
      "text/plain": [
       "                     category condition  \\\n",
       "0  Studio Recording Equipment       New   \n",
       "\n",
       "                                 description            id  \\\n",
       "0  Audio interface new! Works with fire wire  m46490058971   \n",
       "\n",
       "                        name    price  \n",
       "0  Behringer AUDIO interface  $ 35.00  "
      ]
     },
     "execution_count": 5,
     "metadata": {},
     "output_type": "execute_result"
    }
   ],
   "source": [
    "df = df.drop(['brand','files','url','image','file_urls','shipping'],axis = 1)\n",
    "df.head(1)"
   ]
  },
  {
   "cell_type": "code",
   "execution_count": 6,
   "metadata": {},
   "outputs": [
    {
     "data": {
      "text/plain": [
       "category       7\n",
       "condition      6\n",
       "description    5\n",
       "id             6\n",
       "name           6\n",
       "price          6\n",
       "dtype: int64"
      ]
     },
     "execution_count": 6,
     "metadata": {},
     "output_type": "execute_result"
    }
   ],
   "source": [
    "df.isnull().sum()"
   ]
  },
  {
   "cell_type": "code",
   "execution_count": 7,
   "metadata": {},
   "outputs": [],
   "source": [
    "df = df.dropna()"
   ]
  },
  {
   "cell_type": "code",
   "execution_count": 8,
   "metadata": {},
   "outputs": [
    {
     "data": {
      "text/plain": [
       "category       0\n",
       "condition      0\n",
       "description    0\n",
       "id             0\n",
       "name           0\n",
       "price          0\n",
       "dtype: int64"
      ]
     },
     "execution_count": 8,
     "metadata": {},
     "output_type": "execute_result"
    }
   ],
   "source": [
    "df.isnull().sum()"
   ]
  },
  {
   "cell_type": "code",
   "execution_count": 9,
   "metadata": {},
   "outputs": [
    {
     "name": "stdout",
     "output_type": "stream",
     "text": [
      "category       11121\n",
      "condition      11121\n",
      "description    11121\n",
      "id             11121\n",
      "name           11121\n",
      "price          11121\n",
      "dtype: int64\n"
     ]
    }
   ],
   "source": [
    "print(df.count())"
   ]
  },
  {
   "cell_type": "code",
   "execution_count": 10,
   "metadata": {},
   "outputs": [
    {
     "data": {
      "text/plain": [
       "category\n",
       "Live Sound & Stage                  25\n",
       "Bass Guitars                        40\n",
       "Band & Orchestra                   188\n",
       "Brass Instruments                  259\n",
       "Other                              336\n",
       "Studio Recording Equipment         466\n",
       "Amplifiers & Effects               703\n",
       "Drums & Percussion                 806\n",
       "Stringed Instruments               935\n",
       "Wind & Woodwind Instruments        965\n",
       "DJ, Electronic Music & Karaoke    1065\n",
       "Keyboards                         1173\n",
       "Instrument Accessories            1362\n",
       "Microphones & Accessories         1392\n",
       "Guitars                           1406\n",
       "Name: condition, dtype: int64"
      ]
     },
     "execution_count": 10,
     "metadata": {},
     "output_type": "execute_result"
    }
   ],
   "source": [
    "df.groupby('category').agg('count')['condition'].sort_values()"
   ]
  },
  {
   "cell_type": "code",
   "execution_count": 11,
   "metadata": {},
   "outputs": [
    {
     "data": {
      "text/plain": [
       "condition\n",
       "Poor          66\n",
       "Fair         391\n",
       "New         2424\n",
       "Like New    4005\n",
       "Good        4235\n",
       "Name: category, dtype: int64"
      ]
     },
     "execution_count": 11,
     "metadata": {},
     "output_type": "execute_result"
    }
   ],
   "source": [
    "df.groupby('condition').agg('count')['category'].sort_values()"
   ]
  },
  {
   "cell_type": "code",
   "execution_count": 12,
   "metadata": {},
   "outputs": [],
   "source": [
    "df.to_csv('../data/products_cleaned.csv', index=False) "
   ]
  },
  {
   "cell_type": "code",
   "execution_count": null,
   "metadata": {},
   "outputs": [],
   "source": []
  }
 ],
 "metadata": {
  "kernelspec": {
   "display_name": "Python 3",
   "language": "python",
   "name": "python3"
  },
  "language_info": {
   "codemirror_mode": {
    "name": "ipython",
    "version": 3
   },
   "file_extension": ".py",
   "mimetype": "text/x-python",
   "name": "python",
   "nbconvert_exporter": "python",
   "pygments_lexer": "ipython3",
   "version": "3.7.2"
  }
 },
 "nbformat": 4,
 "nbformat_minor": 2
}
